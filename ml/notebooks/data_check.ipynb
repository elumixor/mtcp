{
 "cells": [
  {
   "cell_type": "code",
   "execution_count": 2,
   "metadata": {},
   "outputs": [
    {
     "name": "stdout",
     "output_type": "stream",
     "text": [
      "The autoreload extension is already loaded. To reload it, use:\n",
      "  %reload_ext autoreload\n"
     ]
    }
   ],
   "source": [
    "%load_ext autoreload\n",
    "%autoreload 2\n",
    "\n",
    "import autorootcwd # Do not delete - adds the root of the project to the path"
   ]
  },
  {
   "cell_type": "code",
   "execution_count": 7,
   "metadata": {},
   "outputs": [
    {
     "name": "stderr",
     "output_type": "stream",
     "text": [
      "Loading data: 100%|██████████| 12/12 [00:00<00:00, 13.42it/s]\n"
     ]
    },
    {
     "name": "stdout",
     "output_type": "stream",
     "text": [
      "Data(n_samples=8709735, n_features=107, n_classes=17)\n"
     ]
    }
   ],
   "source": [
    "# Load the data\n",
    "import torch\n",
    "\n",
    "from src.data import load_data\n",
    "\n",
    "data, selected = load_data(\"data/v8-relaxed\")\n",
    "print(data)"
   ]
  },
  {
   "cell_type": "code",
   "execution_count": 12,
   "metadata": {},
   "outputs": [
    {
     "name": "stdout",
     "output_type": "stream",
     "text": [
      "tensor([7., 5., 5.,  ..., 5., 4., 3.])\n",
      ">=3 tensor(4080839)\n",
      ">=4 tensor(2391437)\n"
     ]
    }
   ],
   "source": [
    "jets_i = data.x_names_continuous.index(\"nJets_OR\")\n",
    "jets = data.x_continuous[:, jets_i] * data.metadata[\"std\"][jets_i] + data.metadata[\"mean\"][jets_i]\n",
    "print(jets)\n",
    "\n",
    "print(\">=3\", (jets >= 3).sum())\n",
    "print(\">=4\", (jets >= 4).sum())"
   ]
  }
 ],
 "metadata": {
  "kernelspec": {
   "display_name": "tth",
   "language": "python",
   "name": "python3"
  },
  "language_info": {
   "codemirror_mode": {
    "name": "ipython",
    "version": 3
   },
   "file_extension": ".py",
   "mimetype": "text/x-python",
   "name": "python",
   "nbconvert_exporter": "python",
   "pygments_lexer": "ipython3",
   "version": "3.10.10"
  },
  "orig_nbformat": 4
 },
 "nbformat": 4,
 "nbformat_minor": 2
}
