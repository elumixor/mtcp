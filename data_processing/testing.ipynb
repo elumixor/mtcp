{
 "cells": [
  {
   "cell_type": "code",
   "execution_count": 1,
   "metadata": {},
   "outputs": [],
   "source": [
    "%load_ext autoreload\n",
    "%autoreload 2\n",
    "\n",
    "import autorootcwd  # Do not delete - adds the root of the project to the path"
   ]
  },
  {
   "cell_type": "code",
   "execution_count": 2,
   "metadata": {},
   "outputs": [],
   "source": [
    "# Read the config file\n",
    "from data_processing.processing import read_yaml\n",
    "\n",
    "config = read_yaml(\"config\")"
   ]
  },
  {
   "cell_type": "code",
   "execution_count": 3,
   "metadata": {
    "scrolled": false
   },
   "outputs": [
    {
     "name": "stdout",
     "output_type": "stream",
     "text": [
      "parser.ntuple_base_path='/eos/atlas/atlascerngroupdisk/phys-higgs/HSG8/multilepton_ttWttH/v08/v0801/systematics-full/nominal/'\n",
      "parser.ntuple_name='nominal'\n",
      "parser.regions={'lep-pt-0': {'BLOCK_NAME': 'lep-pt-0', 'Type': 'SIGNAL', 'Variable': ['lep_Pt_0/1e3', 10, 0, 200], 'VariableTitle': 'Leading lepton p_{T} [GeV]', 'Label': '2lSS 1#tau 4j 1b', 'ShortLabel': 'SR - 2lSS 1#tau', 'TexLabel': '\\\\mathbf{2lSS 1\\\\tau 4j 1b}', 'Selection': 'XXX_TRIGGER_SELECTION && XXX_2LEPTON_SS_SELECTION && XXX_LEPTON_PROMPT_SELECTION && nTaus_OR==1 && nJets_OR_DL1r_85>=1 && nJets_OR>=4 && XXX_EXCLUSION_Z_PEAK', 'LogScale': 'FALSE', 'Ymin': '0.01', 'DataType': 'DATA'}}\n",
      "parser.samples={'ttH': {'BLOCK_NAME': 'ttH', 'Type': 'SIGNAL', 'Title': 't#bar{t}H', 'TexTitle': '$t\\\\bar{t}H$', 'Group': 't#bar{t}H', 'FillColor': '2', 'LineColor': '1', 'NtupleFiles': 'XXX_ttH_samples', 'Selection': 'XXX_TAU_PROMPT && XXX_LEP_PROMPT'}, 'ttW': {'BLOCK_NAME': 'ttW', 'Type': 'BACKGROUND', 'Title': 't#bar{t}W', 'TexTitle': '$t\\\\bar{t}W$', 'Group': 't#bar{t}W', 'FillColor': '5', 'LineColor': '1', 'NtupleFiles': 'XXX_ttW2210_samples', 'Selection': 'XXX_TAU_PROMPT', 'MCweight': 'weight_EW * 1.176009203'}, 'ttW_EW': {'BLOCK_NAME': 'ttW_EW', 'Type': 'BACKGROUND', 'Title': 't#bar{t}W EW', 'TexTitle': '$t\\\\bar{t}W EW$', 'Group': 't#bar{t}W', 'FillColor': '5', 'LineColor': '1', 'NtupleFiles': 'XXX_ttW2210_EW_samples', 'Selection': 'XXX_TAU_PROMPT', 'MCweight': '1.135714286'}, 'ttZ': {'BLOCK_NAME': 'ttZ', 'Type': 'BACKGROUND', 'Title': 't#bar{t}(Z/#gamma*)', 'TexTitle': '$t\\\\bar{t}Z/\\\\gamma$', 'Group': 't#bar{t}(Z/#gamma*)', 'FillColor': '7', 'LineColor': '1', 'NtupleFiles': 'XXX_ttZ_MadNew_samples', 'Selection': 'XXX_TAU_PROMPT'}, 'ttbar': {'BLOCK_NAME': 'ttbar', 'Type': 'BACKGROUND', 'Title': 't#bar{t}', 'TexTitle': '$t\\\\bar{t}$', 'Group': 't#bar{t}', 'FillColor': '4', 'LineColor': '1', 'NtupleFiles': 'XXX_ttbar_nonallhad_samples', 'Selection': 'XXX_LEP_PROMPT && XXX_TAU_PROMPT'}, 'VV': {'BLOCK_NAME': 'VV', 'Type': 'BACKGROUND', 'Title': 'Diboson', 'TexTitle': '$VV$', 'Group': 'Diboson', 'FillColor': '3', 'LineColor': '1', 'NtupleFiles': 'XXX_VV_samples', 'Selection': 'XXX_TAU_PROMPT && XXX_LEP_PROMPT'}, 'tZ': {'BLOCK_NAME': 'tZ', 'Type': 'BACKGROUND', 'Title': 'tZ', 'TexTitle': '$tZ$', 'Group': 'Other', 'FillColor': '29', 'LineColor': '1', 'NtupleFiles': 'XXX_tZ_samples', 'Selection': 'XXX_TAU_PROMPT && XXX_LEP_PROMPT'}, 'WtZ': {'BLOCK_NAME': 'WtZ', 'Type': 'BACKGROUND', 'Title': 'WtZ', 'TexTitle': '$WtZ$', 'Group': 'Other', 'FillColor': '29', 'LineColor': '1', 'NtupleFiles': 'XXX_WtZ_samples', 'Selection': 'XXX_TAU_PROMPT && XXX_LEP_PROMPT'}, 'tW': {'BLOCK_NAME': 'tW', 'Type': 'BACKGROUND', 'Title': 'tW', 'TexTitle': '$tW$', 'Group': 'Other', 'FillColor': '29', 'LineColor': '1', 'NtupleFiles': 'XXX_tW_samples', 'Selection': 'XXX_LEP_PROMPT && XXX_TAU_PROMPT'}, 'threeTop': {'BLOCK_NAME': 'threeTop', 'Type': 'BACKGROUND', 'Title': 'Three top', 'Group': 'Other', 'FillColor': '29', 'LineColor': '1', 'NtupleFiles': 'XXX_threeTop_samples', 'Selection': 'XXX_TAU_PROMPT && XXX_LEP_PROMPT'}, 'fourTop': {'BLOCK_NAME': 'fourTop', 'Type': 'BACKGROUND', 'Title': 'Four top', 'Group': 'Other', 'FillColor': '29', 'LineColor': '1', 'NtupleFiles': 'XXX_fourTop_samples', 'Selection': 'XXX_TAU_PROMPT && XXX_LEP_PROMPT'}, 'ggVV': {'BLOCK_NAME': 'ggVV', 'Type': 'BACKGROUND', 'Title': 'ggVV', 'TexTitle': 'ggVV', 'Group': 'Other', 'FillColor': '29', 'LineColor': '1', 'NtupleFiles': 'XXX_ggVV_samples', 'Selection': 'XXX_TAU_PROMPT && XXX_LEP_PROMPT', 'MCweight': '1.2'}, 'VVV': {'BLOCK_NAME': 'VVV', 'Type': 'BACKGROUND', 'Title': 'VVV', 'TexTitle': '$VVV$', 'Group': 'Other', 'FillColor': '29', 'LineColor': '1', 'NtupleFiles': 'XXX_VVV_samples', 'Selection': 'XXX_TAU_PROMPT && XXX_LEP_PROMPT'}, 'VH': {'BLOCK_NAME': 'VH', 'Type': 'BACKGROUND', 'Title': 'VH', 'TexTitle': '$VH$', 'Group': 'Other', 'FillColor': '29', 'LineColor': '1', 'NtupleFiles': 'XXX_VH_samples', 'Selection': 'XXX_TAU_PROMPT && XXX_LEP_PROMPT'}, 'WttW': {'BLOCK_NAME': 'WttW', 'Type': 'BACKGROUND', 'Title': 't#bar{t}WW', 'TexTitle': '$t\\\\bar{t}WW$', 'Group': 'Other', 'FillColor': '29', 'LineColor': '1', 'NtupleFiles': 'XXX_ttWW_samples', 'Selection': 'XXX_TAU_PROMPT && XXX_LEP_PROMPT'}, 'tHjb': {'BLOCK_NAME': 'tHjb', 'Type': 'BACKGROUND', 'Title': 'tHjb', 'TexTitle': '$tHjb$', 'Group': 'Other', 'FillColor': '29', 'LineColor': '1', 'NtupleFiles': 'XXX_tHjb_samples', 'Selection': 'XXX_TAU_PROMPT && XXX_LEP_PROMPT'}, 'tWH': {'BLOCK_NAME': 'tWH', 'Type': 'BACKGROUND', 'Title': 'tWH', 'TexTitle': '$tWH$', 'Group': 'Other', 'FillColor': '29', 'LineColor': '1', 'NtupleFiles': 'XXX_tWH_samples', 'Selection': 'XXX_TAU_PROMPT && XXX_LEP_PROMPT'}, 'Zjets': {'BLOCK_NAME': 'Zjets', 'Type': 'BACKGROUND', 'Title': 'Z+jets', 'TexTitle': 'Z+jets', 'Group': 'Other', 'FillColor': '29', 'LineColor': '1', 'NtupleFiles': 'XXX_Zjets_samples', 'Selection': 'XXX_TAU_PROMPT && XXX_LEP_PROMPT'}}\n",
      "parser.luminosity=140068.94\n",
      "parser.weight_expr('ttW')='((((((((36646.74) * (((((RunYear) == (2015))) + (((RunYear) == (2016))))))) + (((((44630.6) * (((RunYear) == (2017))))) + (((58791.6) * (((RunYear) == (2018))))))))) * (((((1) / (140068.94))) * (((custTrigSF_LooseID_FCLooseIso_SLTorDLT) * (((weight_pileup) * (((jvtSF_customOR) * (((bTagSF_weight_DL1r_85) * (((((((((((mcChannelNumber) == (364250))) + (((((((mcChannelNumber) >= (364253))) * (((mcChannelNumber) <= (364255))))) + (((((((mcChannelNumber) >= (364283))) * (((mcChannelNumber) <= (364287))))) + (((((((mcChannelNumber) >= (363355))) * (((mcChannelNumber) <= (363360))))) + (((((mcChannelNumber) == (363489))) + (((((mcChannelNumber) == (345705))) + (((((mcChannelNumber) == (345706))) + (((((mcChannelNumber) == (345715))) + (((((mcChannelNumber) == (345718))) + (((((mcChannelNumber) == (345723))) + (((((mcChannelNumber) == (364290))) + (((((mcChannelNumber) == (364289))) + (((mcChannelNumber) == (364288))))))))))))))))))))))))))) * (((((((nJets_OR) == (0))) * (1.0))) + (((((((nJets_OR) == (1))) * (0.986980))) + (((((((nJets_OR) == (2))) * (0.853062))) + (((((((nJets_OR) == (3))) * (0.785437))) + (((((((nJets_OR) == (4))) * (0.741692))) + (((((((nJets_OR) == (5))) * (0.709992))) + (((((((nJets_OR) == (6))) * (0.685452))) + (((((nJets_OR) >= (7))) * (0.665613))))))))))))))))))) + (((((((mcChannelNumber) != (364250))) * (((((mcChannelNumber) != (364253))) * (((((mcChannelNumber) != (364254))) * (((((mcChannelNumber) != (364255))) * (((((mcChannelNumber) != (364283))) * (((((mcChannelNumber) != (364284))) * (((((mcChannelNumber) != (364285))) * (((((mcChannelNumber) != (364286))) * (((((mcChannelNumber) != (364287))) * (((((mcChannelNumber) != (363355))) * (((((mcChannelNumber) != (363356))) * (((((mcChannelNumber) != (363357))) * (((((mcChannelNumber) != (363358))) * (((((mcChannelNumber) != (363359))) * (((((mcChannelNumber) != (363360))) * (((((mcChannelNumber) != (363489))) * (((((mcChannelNumber) != (345705))) * (((((mcChannelNumber) != (345706))) * (((((mcChannelNumber) != (345715))) * (((((mcChannelNumber) != (345718))) * (((mcChannelNumber) != (345723))))))))))))))))))))))))))))))))))))))))))) * (1.0))))) * (((weight_mc) * (((xs) * (((((lep_SF_CombinedTight_0) * (((lep_SF_CombinedTight_1) * (((lepSF_PLIV_Prompt_0) * (lepSF_PLIV_Prompt_1))))))) / (totalEventsWeighted))))))))))))))))))))) * (((weight_EW) * (1.176009203))))'\n",
      "parser.cut_expr(region)='((custTrigMatch_LooseID_FCLooseIso_SLTorDLT) * (((((dilep_type) * (((((lep_ID_0) * (lep_ID_1))) > (0))))) * (((((((((lep_Pt_0) >= (10e3))) * (((lep_Pt_1) >= (10e3))))) * (((((((fabs(lep_Eta_0)) <= (2.5))) * (((fabs(lep_Eta_1)) <= (2.5))))) * (((((((((abs(lep_ID_0)) == (13))) * (((lep_isMedium_0) * (((lep_isolationLoose_VarRad_0) * (passPLIVTight_0))))))) + (((((((abs(lep_ID_0)) == (11))) * (((lep_isTightLH_0) * (((lep_isolationLoose_VarRad_0) * (((passPLIVTight_0) * (((((lep_ambiguityType_0) == (0))) * (((lep_chargeIDBDTResult_recalc_rel207_tight_0) > (0.7))))))))))))) * ((((~((((~(((((lep_Mtrktrk_atConvV_CO_0) < (0.1))) * (((((lep_Mtrktrk_atConvV_CO_0) >= (0))) * (((lep_RadiusCO_0) > (20))))))))) * (((((lep_Mtrktrk_atPV_CO_0) < (0.1))) * (((lep_Mtrktrk_atPV_CO_0) >= (0))))))))) * ((~(((((lep_Mtrktrk_atConvV_CO_0) < (0.1))) * (((((lep_Mtrktrk_atConvV_CO_0) >= (0))) * (((lep_RadiusCO_0) > (20))))))))))))))) * (((((((abs(lep_ID_1)) == (13))) * (((lep_isMedium_1) * (((lep_isolationLoose_VarRad_1) * (passPLIVTight_1))))))) + (((((((abs(lep_ID_1)) == (11))) * (((lep_isTightLH_1) * (((lep_isolationLoose_VarRad_1) * (((passPLIVTight_1) * (((((lep_ambiguityType_1) == (0))) * (((lep_chargeIDBDTResult_recalc_rel207_tight_1) > (0.7))))))))))))) * ((((~((((~(((((lep_Mtrktrk_atConvV_CO_1) < (0.1))) * (((((lep_Mtrktrk_atConvV_CO_1) >= (0))) * (((lep_RadiusCO_1) > (20))))))))) * (((((lep_Mtrktrk_atPV_CO_1) < (0.1))) * (((lep_Mtrktrk_atPV_CO_1) >= (0))))))))) * ((~(((((lep_Mtrktrk_atConvV_CO_1) < (0.1))) * (((((lep_Mtrktrk_atConvV_CO_1) >= (0))) * (((lep_RadiusCO_1) > (20))))))))))))))))))))) * (((((nTaus_OR) == (1))) * (((((nJets_OR_DL1r_85) >= (1))) * (((((nJets_OR) >= (4))) * (((((dilep_type) == (2))) + (((abs(Mll01-91.2e3)) > (10e3))))))))))))))))'\n",
      "parser.cut_features(region)=['nTaus_OR', 'lep_ID_1', 'lep_isMedium_0', 'lep_Mtrktrk_atConvV_CO_1', 'nJets_OR', 'passPLIVTight_1', 'lep_isolationLoose_VarRad_1', 'lep_ID_0', 'lep_isMedium_1', 'lep_isTightLH_1', 'lep_isTightLH_0', 'lep_RadiusCO_0', 'lep_Mtrktrk_atConvV_CO_0', 'passPLIVTight_0', 'lep_Eta_1', 'Mll01', 'custTrigMatch_LooseID_FCLooseIso_SLTorDLT', 'lep_Pt_1', 'lep_chargeIDBDTResult_recalc_rel207_tight_1', 'lep_RadiusCO_1', 'lep_Mtrktrk_atPV_CO_1', 'lep_Pt_0', 'lep_isolationLoose_VarRad_0', 'nJets_OR_DL1r_85', 'lep_ambiguityType_1', 'dilep_type', 'lep_Eta_0', 'lep_ambiguityType_0', 'lep_chargeIDBDTResult_recalc_rel207_tight_0', 'lep_Mtrktrk_atPV_CO_0']\n"
     ]
    }
   ],
   "source": [
    "import os\n",
    "from data_processing.processing import ConfigParser\n",
    "\n",
    "# Create the config parser\n",
    "parser = ConfigParser(config[\"trex_config\"])\n",
    "\n",
    "# We can access important properties of the config file\n",
    "print(f\"{parser.ntuple_base_path=}\")\n",
    "print(f\"{parser.ntuple_name=}\")\n",
    "print(f\"{parser.regions=}\")\n",
    "print(f\"{parser.samples=}\")\n",
    "\n",
    "# Automatically substituted from the replacement file\n",
    "print(f\"{parser.luminosity=}\")\n",
    "print(f\"{parser.weight_expr('ttW')=}\")\n",
    "\n",
    "region = config[\"region\"] # Our region of interest\n",
    "print(f\"{parser.cut_expr(region)=}\")\n",
    "print(f\"{parser.cut_features(region)=}\") # Print all the features used for the preselection"
   ]
  },
  {
   "cell_type": "code",
   "execution_count": 16,
   "metadata": {},
   "outputs": [
    {
     "name": "stdout",
     "output_type": "stream",
     "text": [
      "\\begin{itemize}\n",
      "\\item \\textbf{ttH}: \\texttt{mc16a/p4498/346343}, \\texttt{ mc16a/p4498/346344}, \\texttt{ mc16a/p4498/346345}, \\texttt{ mc16d/p4498/346343}, \\texttt{ mc16d/p4498/346344}, \\texttt{ mc16d/p4498/346345}, \\texttt{ mc16e/p4498/346343}, \\texttt{ mc16e/p4498/346344}, \\texttt{ mc16e/p4498/346345}, \n",
      "\\item \\textbf{ttW}: \\texttt{mc16a/p4416/700168}, \\texttt{ mc16d/p4416/700168}, \\texttt{ mc16e/p4416/700168}, \n",
      "\\item \\textbf{ttW_EW}: \\texttt{mc16a/p4590/700205}, \\texttt{ mc16d/p4590/700205}, \\texttt{ mc16e/p4590/700205}, \n",
      "\\item \\textbf{ttZ}: \\texttt{mc16a/p4416/504330}, \\texttt{ mc16a/p4416/504334}, \\texttt{ mc16a/p4416/504342}, \\texttt{ mc16d/p4416/504330}, \\texttt{ mc16d/p4416/504334}, \\texttt{ mc16d/p4416/504342}, \\texttt{ mc16e/p4416/504330}, \\texttt{ mc16e/p4416/504334}, \\texttt{ mc16e/p4416/504342}, \n",
      "\\item \\textbf{ttbar}: \\texttt{mc16a/p4308/410470}, \\texttt{ mc16d/p4308/410470}, \\texttt{ mc16e/p4308/410470}, \n",
      "\\item \\textbf{VV}: \\texttt{mc16a/p4416/364250}, \\texttt{ mc16a/p4416/364253}, \\texttt{ mc16a/p4416/364254}, \\texttt{ mc16a/p4416/364255}, \\texttt{ mc16a/p4308/364283}, \\texttt{ mc16a/p4308/364284}, \\texttt{ mc16a/p4308/364285}, \\texttt{ mc16a/p4308/364286}, \\texttt{ mc16a/p4308/364287}, \\texttt{ mc16a/p4308/363355}, \\texttt{ mc16a/p4308/363356}, \\texttt{ mc16a/p4308/363357}, \\texttt{ mc16a/p4308/363358}, \\texttt{ mc16a/p4308/363359}, \\texttt{ mc16a/p4308/363360}, \\texttt{ mc16a/p4308/363489}, \\texttt{ mc16d/p4416/364250}, \\texttt{ mc16d/p4416/364253}, \\texttt{ mc16d/p4416/364254}, \\texttt{ mc16d/p4416/364255}, \\texttt{ mc16d/p4308/364283}, \\texttt{ mc16d/p4308/364284}, \\texttt{ mc16d/p4308/364285}, \\texttt{ mc16d/p4308/364286}, \\texttt{ mc16d/p4308/364287}, \\texttt{ mc16d/p4308/363355}, \\texttt{ mc16d/p4308/363356}, \\texttt{ mc16d/p4308/363357}, \\texttt{ mc16d/p4308/363358}, \\texttt{ mc16d/p4308/363359}, \\texttt{ mc16d/p4308/363360}, \\texttt{ mc16d/p4308/363489}, \\texttt{ mc16e/p4416/364250}, \\texttt{ mc16e/p4416/364253}, \\texttt{ mc16e/p4416/364254}, \\texttt{ mc16e/p4416/364255}, \\texttt{ mc16e/p4308/364283}, \\texttt{ mc16e/p4308/364284}, \\texttt{ mc16e/p4308/364285}, \\texttt{ mc16e/p4308/364286}, \\texttt{ mc16e/p4308/364287}, \\texttt{ mc16e/p4308/363355}, \\texttt{ mc16e/p4308/363356}, \\texttt{ mc16e/p4308/363357}, \\texttt{ mc16e/p4308/363358}, \\texttt{ mc16e/p4308/363359}, \\texttt{ mc16e/p4308/363360}, \\texttt{ mc16e/p4308/363489}, \n",
      "\\item \\textbf{tZ}: \\texttt{mc16a/p4308/410560}, \\texttt{ mc16d/p4308/410560}, \\texttt{ mc16e/p4308/410560}, \n",
      "\\item \\textbf{WtZ}: \\texttt{mc16a/p4308/410408}, \\texttt{ mc16d/p4308/410408}, \\texttt{ mc16e/p4308/410408}, \n",
      "\\item \\textbf{tW}: \\texttt{mc16a/p4308/410646}, \\texttt{ mc16a/p4308/410647}, \\texttt{ mc16d/p4308/410646}, \\texttt{ mc16d/p4308/410647}, \\texttt{ mc16e/p4308/410646}, \\texttt{ mc16e/p4308/410647}, \n",
      "\\item \\textbf{threeTop}: \\texttt{mc16a/p4308/304014}, \\texttt{ mc16d/p4308/304014}, \\texttt{ mc16e/p4308/304014}, \n",
      "\\item \\textbf{fourTop}: \\texttt{mc16a/p4308/410080}, \\texttt{ mc16d/p4308/410080}, \\texttt{ mc16e/p4308/410080}, \n",
      "\\item \\textbf{ggVV}: \\texttt{mc16a/p4308/345705}, \\texttt{ mc16a/p4396/345706}, \\texttt{ mc16a/p4396/345715}, \\texttt{ mc16a/p4396/345718}, \\texttt{ mc16a/p4396/345723}, \\texttt{ mc16d/p4308/345705}, \\texttt{ mc16d/p4396/345706}, \\texttt{ mc16d/p4396/345715}, \\texttt{ mc16d/p4396/345718}, \\texttt{ mc16d/p4396/345723}, \\texttt{ mc16e/p4308/345705}, \\texttt{ mc16e/p4396/345706}, \\texttt{ mc16e/p4396/345715}, \\texttt{ mc16e/p4396/345718}, \\texttt{ mc16e/p4396/345723}, \n",
      "\\item \\textbf{VVV}: \\texttt{mc16a/p4308/364242}, \\texttt{ mc16a/p4308/364243}, \\texttt{ mc16a/p4308/364244}, \\texttt{ mc16a/p4308/364245}, \\texttt{ mc16a/p4308/364246}, \\texttt{ mc16a/p4308/364247}, \\texttt{ mc16a/p4308/364248}, \\texttt{ mc16a/p4308/364249}, \\texttt{ mc16d/p4308/364242}, \\texttt{ mc16d/p4308/364243}, \\texttt{ mc16d/p4308/364244}, \\texttt{ mc16d/p4308/364245}, \\texttt{ mc16d/p4308/364246}, \\texttt{ mc16d/p4308/364247}, \\texttt{ mc16d/p4308/364248}, \\texttt{ mc16d/p4308/364249}, \\texttt{ mc16e/p4308/364242}, \\texttt{ mc16e/p4308/364243}, \\texttt{ mc16e/p4308/364244}, \\texttt{ mc16e/p4308/364245}, \\texttt{ mc16e/p4308/364246}, \\texttt{ mc16e/p4308/364247}, \\texttt{ mc16e/p4308/364248}, \\texttt{ mc16e/p4308/364249}, \n",
      "\\item \\textbf{VH}: \\texttt{mc16a/p4308/342284}, \\texttt{ mc16a/p4308/342285}, \\texttt{ mc16d/p4308/342284}, \\texttt{ mc16d/p4308/342285}, \\texttt{ mc16e/p4308/342284}, \\texttt{ mc16e/p4308/342285}, \n",
      "\\item \\textbf{WttW}: \\texttt{mc16a/p4308/410081}, \\texttt{ mc16d/p4308/410081}, \\texttt{ mc16e/p4308/410081}, \n",
      "\\item \\textbf{tHjb}: \\texttt{mc16a/p4308/346799_AF}, \\texttt{ mc16d/p4308/346799_AF}, \\texttt{ mc16e/p4308/346799_AF}, \n",
      "\\item \\textbf{tWH}: \\texttt{mc16a/p4308/346678_AF}, \\texttt{ mc16d/p4308/346678_AF}, \\texttt{ mc16e/p4308/346678_AF}, \n",
      "\\end{itemize}\n"
     ]
    }
   ],
   "source": [
    "files = parser.files_by_process(full_path=False)\n",
    "print(\"\\\\begin{itemize}\")\n",
    "for sample in config[\"samples\"]:\n",
    "    print(f\"\\\\item \\\\textbf{{{sample}}}: \", end=\"\")\n",
    "    for file in files[sample]:\n",
    "        print(f\"\\\\texttt{{{file}}}, \", end=\"\")\n",
    "    print()\n",
    "print(\"\\\\end{itemize}\")"
   ]
  },
  {
   "cell_type": "code",
   "execution_count": 5,
   "metadata": {},
   "outputs": [
    {
     "name": "stdout",
     "output_type": "stream",
     "text": [
      "                                  DRjj_lead\n",
      "                                     DRll01\n",
      "                      DeltaR_max_lep_bjet77\n",
      "                         DeltaR_min_lep_jet\n",
      "                     DeltaR_min_lep_jet_fwd\n",
      "                                         HT\n",
      "                                 HT_fwdJets\n",
      "                             HT_inclFwdJets\n",
      "                                    HT_jets\n",
      "                                     HT_lep\n",
      "                                    HT_taus\n",
      "                                    MLepMet\n",
      "                                        Mb1\n",
      "                                        Mlb\n",
      "                                      Mll01 (cut only)\n",
      "                                    Mlll012\n",
      "                                  Mllll0123\n",
      "                                  MtLep1Met\n",
      "                                   MtLepMet\n",
      "                                     Ptll01\n",
      "                                 best_Z_Mll\n",
      "                           best_Z_other_Mll\n",
      "                      best_Z_other_MtLepMet\n",
      "  custTrigMatch_LooseID_FCLooseIso_SLTorDLT (cut only)\n",
      "                        dEta_maxMjj_frwdjet\n",
      "                                 dilep_type (cut only)\n",
      "                                eta_frwdjet\n",
      "                  flag_JetCleaning_LooseBad\n",
      "                                     jets_e (object)\n",
      "                                   jets_eta (object)\n",
      "                                   jets_phi (object)\n",
      "                                    jets_pt (object)\n",
      "                                    lep_E_0\n",
      "                                    lep_E_1\n",
      "                               lep_EtaBE2_0\n",
      "                               lep_EtaBE2_1\n",
      "                                  lep_Eta_0 (cut only)\n",
      "                                  lep_Eta_1 (cut only)\n",
      "                                   lep_ID_0 (cut only)\n",
      "                                   lep_ID_1 (cut only)\n",
      "                   lep_Mtrktrk_atConvV_CO_0 (cut only)\n",
      "                   lep_Mtrktrk_atConvV_CO_1 (cut only)\n",
      "                      lep_Mtrktrk_atPV_CO_0 (cut only)\n",
      "                      lep_Mtrktrk_atPV_CO_1 (cut only)\n",
      "                                  lep_Phi_0\n",
      "                                  lep_Phi_1\n",
      "                                   lep_Pt_0 (cut only)\n",
      "                                   lep_Pt_1 (cut only)\n",
      "                             lep_RadiusCO_0 (cut only)\n",
      "                             lep_RadiusCO_1 (cut only)\n",
      "                           lep_Z0SinTheta_0\n",
      "                           lep_Z0SinTheta_1\n",
      "                        lep_ambiguityType_0 (cut only)\n",
      "                        lep_ambiguityType_1 (cut only)\n",
      "lep_chargeIDBDTResult_recalc_rel207_tight_0 (cut only)\n",
      "lep_chargeIDBDTResult_recalc_rel207_tight_1 (cut only)\n",
      "                             lep_isMedium_0 (cut only)\n",
      "                             lep_isMedium_1 (cut only)\n",
      "                            lep_isTightLH_0 (cut only)\n",
      "                            lep_isTightLH_1 (cut only)\n",
      "                lep_isolationLoose_VarRad_0 (cut only)\n",
      "                lep_isolationLoose_VarRad_1 (cut only)\n",
      "                            lep_nInnerPix_0\n",
      "                            lep_nInnerPix_1\n",
      "                      lep_nTrackParticles_0\n",
      "                      lep_nTrackParticles_1\n",
      "                              lep_sigd0PV_0\n",
      "                              lep_sigd0PV_1\n",
      "                                    max_eta\n",
      "                                    met_met\n",
      "                                    met_phi\n",
      "                             minDeltaR_LJ_0\n",
      "                             minDeltaR_LJ_1\n",
      "                             minDeltaR_LJ_2\n",
      "                                   minOSMll\n",
      "                                 minOSSFMll\n",
      "                             mjjMax_frwdJet\n",
      "                                nFwdJets_OR\n",
      "                                   nJets_OR (cut only)\n",
      "                           nJets_OR_DL1r_85 (cut only)\n",
      "                                   nTaus_OR (cut only)\n",
      "                              nTaus_OR_Pt25\n",
      "                            passPLIVTight_0 (cut only)\n",
      "                            passPLIVTight_1 (cut only)\n",
      "                                  sumPsbtag\n",
      "                              taus_charge_0\n",
      "                           taus_decayMode_0\n",
      "                                 taus_eta_0\n",
      "                              taus_fromPV_0\n",
      "                            taus_numTrack_0\n",
      "                          taus_passEleOLR_0\n",
      "                             taus_passJVT_0\n",
      "                                 taus_phi_0\n",
      "                                  taus_pt_0\n",
      "                               taus_width_0\n",
      "                               total_charge\n",
      "                              total_leptons\n"
     ]
    }
   ],
   "source": [
    "# We need to select which features we are interested in.\n",
    "# Among these features there are object features - nested arrays of variable length.\n",
    "# We provide those lists in the features.txt and object_features.txt files.\n",
    "train_features = read_yaml(config[\"features\"])\n",
    "object_features = read_yaml(config[\"array_features\"])\n",
    "\n",
    "cut_features = parser.cut_features(region)                # Read the features used in the preselection\n",
    "\n",
    "train_features = list(set(train_features) | set(cut_features))\n",
    "train_features.sort()\n",
    "\n",
    "# Print them\n",
    "max_len = max([len(f) for f in train_features])\n",
    "for feature in train_features:\n",
    "    print(f\"{feature:>{max_len}s}{' (object)' if feature in object_features else ''}{(' (cut + train)' if feature not in train_features else ' (cut only)') if feature in cut_features else ''}\")"
   ]
  },
  {
   "cell_type": "code",
   "execution_count": 7,
   "metadata": {},
   "outputs": [
    {
     "name": "stdout",
     "output_type": "stream",
     "text": [
      "Using selection from ttH sample\n"
     ]
    },
    {
     "name": "stderr",
     "output_type": "stream",
     "text": [
      "ttH: 100%|██████████| 9/9 [00:09<00:00,  1.10s/it]\n"
     ]
    },
    {
     "name": "stdout",
     "output_type": "stream",
     "text": [
      "Concatenating data from 1 processes\n",
      "['taus_fromPV_0', 'DRjj_lead', 'nJets_OR', 'lep_nTrackParticles_1', 'minDeltaR_LJ_0', 'minOSMll', 'lep_nInnerPix_1', 'mjjMax_frwdJet', 'lep_ID_0', 'lep_Eta_1', 'DeltaR_max_lep_bjet77', 'max_eta', 'HT_jets', 'lep_RadiusCO_1', 'lep_chargeIDBDTResult_recalc_rel207_tight_0', 'minDeltaR_LJ_2', 'lep_Phi_0', 'taus_charge_0', 'lep_sigd0PV_0', 'lep_Z0SinTheta_1', 'nFwdJets_OR', 'nJets_OR_DL1r_85', 'lep_Eta_0', 'lep_Z0SinTheta_0', 'taus_eta_0', 'lep_isTightLH_0', 'lep_isolationLoose_VarRad_0', 'taus_width_0', 'nTaus_OR_Pt25', 'minDeltaR_LJ_1', 'DRll01', 'lep_isMedium_1', 'lep_isTightLH_1', 'nTaus_OR', 'lep_Mtrktrk_atPV_CO_0', 'lep_isMedium_0', 'flag_JetCleaning_LooseBad', 'custTrigMatch_LooseID_FCLooseIso_SLTorDLT', 'lep_Pt_1', 'best_Z_other_Mll', 'Mll01', 'lep_Mtrktrk_atConvV_CO_0', 'lep_ambiguityType_1', 'passPLIVTight_1', 'DeltaR_min_lep_jet_fwd', 'lep_EtaBE2_0', 'lep_E_0', 'taus_decayMode_0', 'taus_passEleOLR_0', 'taus_passJVT_0', 'eta_frwdjet', 'sumPsbtag', 'total_charge', 'HT_fwdJets', 'lep_Phi_1', 'taus_phi_0', 'lep_nTrackParticles_0', 'met_phi', 'lep_Mtrktrk_atPV_CO_1', 'lep_sigd0PV_1', 'MLepMet', 'HT_lep', 'lep_RadiusCO_0', 'minOSSFMll', 'lep_E_1', 'Mb1', 'lep_chargeIDBDTResult_recalc_rel207_tight_1', 'total_leptons', 'lep_ambiguityType_0', 'DeltaR_min_lep_jet', 'best_Z_Mll', 'Mlll012', 'MtLepMet', 'dilep_type', 'MtLep1Met', 'lep_Pt_0', 'HT_inclFwdJets', 'lep_ID_1', 'HT_taus', 'taus_pt_0', 'lep_isolationLoose_VarRad_1', 'taus_numTrack_0', 'lep_Mtrktrk_atConvV_CO_1', 'best_Z_other_MtLepMet', 'met_met', 'lep_nInnerPix_0', 'passPLIVTight_0', 'Mllll0123', 'Ptll01', 'Mlb', 'lep_EtaBE2_1', 'dEta_maxMjj_frwdjet', 'HT', 'jets_eta_0', 'jets_eta_1', 'jets_eta_2', 'jets_eta_3', 'jets_eta_4', 'jets_eta_5', 'jets_pt_0', 'jets_pt_1', 'jets_pt_2', 'jets_pt_3', 'jets_pt_4', 'jets_pt_5', 'jets_e_0', 'jets_e_1', 'jets_e_2', 'jets_e_3', 'jets_e_4', 'jets_e_5', 'jets_phi_0', 'jets_phi_1', 'jets_phi_2', 'jets_phi_3', 'jets_phi_4', 'jets_phi_5']\n"
     ]
    }
   ],
   "source": [
    "from data_processing.processing import read_region\n",
    "\n",
    "# Open all the files and read data into awkward array. Also read the weight. Then convert awkward arrays to numpy\n",
    "nested_size = 6\n",
    "data = read_region(region,\n",
    "                   parser,\n",
    "                   train_features,\n",
    "                   object_features,\n",
    "                   nested_size=nested_size,\n",
    "                   samples=[\"ttH\"])\n",
    "                #    samples=config[\"samples\"])"
   ]
  },
  {
   "cell_type": "code",
   "execution_count": 8,
   "metadata": {},
   "outputs": [
    {
     "name": "stdout",
     "output_type": "stream",
     "text": [
      "- Raw: 15293\n",
      "- Weighted: 12.219593768734246\n"
     ]
    }
   ],
   "source": [
    "print(f\"- Raw: {data.selected.sum()}\")\n",
    "print(f\"- Weighted: {data.w[data.selected].sum()}\")"
   ]
  },
  {
   "cell_type": "code",
   "execution_count": 9,
   "metadata": {},
   "outputs": [
    {
     "name": "stdout",
     "output_type": "stream",
     "text": [
      "Casting categorical features to int\n"
     ]
    },
    {
     "name": "stderr",
     "output_type": "stream",
     "text": [
      "Setting invalid values to NaN: 100%|██████████| 3/3 [00:00<00:00, 111.20it/s]\n",
      "Remapping categorical values: 100%|██████████| 15/15 [00:01<00:00,  9.01it/s]\n"
     ]
    },
    {
     "name": "stdout",
     "output_type": "stream",
     "text": [
      "ProcessedData(x_categorical=array([[0, 0, 2, ..., 1, 0, 0],\n",
      "       [3, 2, 3, ..., 1, 1, 0],\n",
      "       [0, 3, 2, ..., 0, 0, 0],\n",
      "       ...,\n",
      "       [1, 0, 0, ..., 1, 1, 0],\n",
      "       [3, 1, 1, ..., 1, 1, 0],\n",
      "       [0, 1, 4, ..., 1, 1, 0]]), x_continuous=array([[ 0.17283437,  1.9655886 , -1.1318482 , ..., -0.5983114 ,\n",
      "         1.0931675 , -0.46944162],\n",
      "       [ 0.21584857,  0.6836461 ,  0.29361293, ..., -1.1430243 ,\n",
      "        -0.68236023,         nan],\n",
      "       [ 0.07322147,  0.6836461 , -1.1318482 , ...,  1.5718334 ,\n",
      "         0.17994665,         nan],\n",
      "       ...,\n",
      "       [ 0.25622228, -1.2392677 ,         nan, ...,  0.63650024,\n",
      "        -0.32565463,         nan],\n",
      "       [ 0.11676958,  0.04267483, -0.41911766, ...,  0.53737384,\n",
      "        -1.5578518 , -1.5633839 ],\n",
      "       [ 0.32225856, -0.5982964 ,         nan, ..., -0.6154019 ,\n",
      "                nan,         nan]], dtype=float32), y=array([0, 0, 0, ..., 0, 0, 0]), w=array([0.        , 0.00139961, 0.        , ..., 0.00037856, 0.00050356,\n",
      "       0.        ]), mean=array([ 5.55829585e-01,  3.93342161e+00,  1.58804500e+00,  9.92106342e+00,\n",
      "        3.10746426e+04,  3.79151219e+05, -1.04036066e-04, -6.55931824e+02,\n",
      "       -1.12006775e+03,  3.36620406e+05, -3.77405975e+02,  3.90802711e-01,\n",
      "        9.84864521e+00, -1.53013575e-03,  5.04117645e-02,  1.22860365e-03,\n",
      "        4.18854564e-01,  1.70939672e+00,  3.65909189e-04,  1.54681155e-03,\n",
      "       -5.73251105e-04,  4.34407234e-01,  9.94901597e-01,  4.42983164e-03,\n",
      "        3.22322965e-01,  9.90968990e+00,  1.65236413e+00,  4.95923221e-01,\n",
      "        3.84652138e-01,  3.68416816e-01,  3.84573847e-01,  5.26543498e-01,\n",
      "        9.27809358e-01,  4.45320703e+04,  8.64068750e+04,  2.20489323e-01,\n",
      "        3.67079047e-03,  5.90559530e+00,  2.35547210e-04,  1.21719500e+05,\n",
      "       -1.80646062e-01,  9.50156784e+00,  2.27935098e+04, -2.36632279e-03,\n",
      "       -2.79768632e-04,  2.16331577e+00, -1.33962473e-02,  2.37591445e-01,\n",
      "        4.34338115e-02,  2.48018031e+05,  1.47198078e+05, -4.43191437e+02,\n",
      "        2.96721465e+04,  7.30574609e+04,  5.34726074e+03,  3.40317041e-01,\n",
      "        1.10123716e-02,  9.55130577e+00,  3.35588867e+04,  8.38174141e+04,\n",
      "        2.90864562e+05,  7.22128359e+04,  7.43344141e+04,  5.06611875e+05,\n",
      "        2.08557305e+04,  1.53633887e+04,  8.86177957e-01,  3.20400745e-01,\n",
      "        1.40515253e-01,  1.80203809e+04,  9.81824531e+04,  1.73295254e+04,\n",
      "        8.04081719e+04,  1.18212609e+05,  2.67903815e-04,  2.28602004e+00,\n",
      "        4.83818656e+05,  9.56860080e-04, -1.19002932e-03,  2.37928983e-03,\n",
      "        4.09663003e-03,  1.18991388e-02,  1.06303943e-02,  1.52610188e+05,\n",
      "        9.05965156e+04,  6.20250156e+04,  4.81895000e+04,  4.09034727e+04,\n",
      "        3.66955664e+04,  3.06459281e+05,  2.05060359e+05,  1.72068125e+05,\n",
      "        1.61347672e+05,  1.57301609e+05,  1.57317938e+05,  5.44943009e-03,\n",
      "        1.87485979e-03,  3.35395639e-03,  2.16320576e-03,  2.38324283e-03,\n",
      "       -1.42889365e-03], dtype=float32), std=array([1.38553095e+01, 1.56013238e+00, 1.40305471e+00, 2.94475128e+02,\n",
      "       4.94336680e+04, 3.73314656e+05, 9.95473206e-01, 2.48095703e+03,\n",
      "       3.15538062e+03, 2.18441344e+05, 4.85710327e+02, 5.08354485e-01,\n",
      "       2.94477264e+02, 1.81378090e+00, 1.13323379e+00, 4.47697565e-02,\n",
      "       6.87807202e-01, 7.19192088e-01, 1.05287111e+00, 4.86130454e-02,\n",
      "       4.63381469e-01, 4.95678931e-01, 7.12207481e-02, 1.07599325e-01,\n",
      "       6.64332092e-01, 2.94475433e+02, 1.00910366e+00, 4.99983311e-01,\n",
      "       4.86512989e-01, 7.21752048e-01, 1.74643767e+00, 4.99294996e-01,\n",
      "       2.58803248e-01, 3.59786992e+04, 7.72282422e+04, 1.16972435e+00,\n",
      "       7.51837566e-02, 2.24448059e+02, 7.02824414e-01, 1.11514719e+05,\n",
      "       2.69239855e+00, 3.25902772e+00, 4.49028086e+04, 1.70667970e+00,\n",
      "       8.59230459e-01, 1.36528409e+00, 1.81226957e+00, 1.45242703e+00,\n",
      "       1.05452812e+00, 1.39100422e+05, 8.92756250e+04, 4.98867371e+02,\n",
      "       5.70305898e+04, 7.10551172e+04, 5.78955615e+03, 4.81719136e-01,\n",
      "       1.52607828e-01, 2.94485687e+02, 5.92139648e+04, 1.20288656e+05,\n",
      "       1.42943750e+05, 6.12041992e+04, 5.39337070e+04, 2.48934516e+05,\n",
      "       4.83631914e+04, 3.61715898e+04, 3.17595035e-01, 7.11361170e-01,\n",
      "       9.98110533e-01, 3.90433828e+04, 6.64448906e+04, 7.12125312e+04,\n",
      "       6.16924414e+04, 1.22018508e+05, 6.43162608e-01, 2.35142112e+00,\n",
      "       2.44459188e+05, 1.22565854e+00, 1.33429706e+00, 1.49701941e+00,\n",
      "       1.63867724e+00, 1.74275982e+00, 1.82172596e+00, 1.05583195e+05,\n",
      "       5.47979922e+04, 3.32054648e+04, 2.26241250e+04, 1.64778164e+04,\n",
      "       1.25732529e+04, 3.35213625e+05, 2.50911641e+05, 2.36796625e+05,\n",
      "       2.33496828e+05, 2.28007422e+05, 2.28336297e+05, 1.81363761e+00,\n",
      "       1.81400084e+00, 1.81515598e+00, 1.81306338e+00, 1.81665981e+00,\n",
      "       1.81184936e+00], dtype=float32), selected=array([False, False, False, ..., False, False, False]), x_names_categorical=['dilep_type', 'lep_ID_0', 'lep_ID_1', 'lep_nInnerPix_0', 'lep_nInnerPix_1', 'total_charge', 'total_leptons', 'taus_passEleOLR_0', 'taus_decayMode_0', 'taus_charge_0', 'taus_fromPV_0', 'taus_passJVT_0', 'passPLIVTight_0', 'passPLIVTight_1', 'flag_JetCleaning_LooseBad'], x_names_continuous=['DRjj_lead', 'nJets_OR', 'lep_nTrackParticles_1', 'minDeltaR_LJ_0', 'minOSMll', 'mjjMax_frwdJet', 'lep_Eta_1', 'DeltaR_max_lep_bjet77', 'max_eta', 'HT_jets', 'lep_RadiusCO_1', 'lep_chargeIDBDTResult_recalc_rel207_tight_0', 'minDeltaR_LJ_2', 'lep_Phi_0', 'lep_sigd0PV_0', 'lep_Z0SinTheta_1', 'nFwdJets_OR', 'nJets_OR_DL1r_85', 'lep_Eta_0', 'lep_Z0SinTheta_0', 'taus_eta_0', 'lep_isTightLH_0', 'lep_isolationLoose_VarRad_0', 'taus_width_0', 'nTaus_OR_Pt25', 'minDeltaR_LJ_1', 'DRll01', 'lep_isMedium_1', 'lep_isTightLH_1', 'nTaus_OR', 'lep_Mtrktrk_atPV_CO_0', 'lep_isMedium_0', 'custTrigMatch_LooseID_FCLooseIso_SLTorDLT', 'lep_Pt_1', 'Mll01', 'lep_Mtrktrk_atConvV_CO_0', 'lep_ambiguityType_1', 'DeltaR_min_lep_jet_fwd', 'lep_EtaBE2_0', 'lep_E_0', 'eta_frwdjet', 'sumPsbtag', 'HT_fwdJets', 'lep_Phi_1', 'taus_phi_0', 'lep_nTrackParticles_0', 'met_phi', 'lep_Mtrktrk_atPV_CO_1', 'lep_sigd0PV_1', 'MLepMet', 'HT_lep', 'lep_RadiusCO_0', 'minOSSFMll', 'lep_E_1', 'Mb1', 'lep_chargeIDBDTResult_recalc_rel207_tight_1', 'lep_ambiguityType_0', 'DeltaR_min_lep_jet', 'best_Z_Mll', 'Mlll012', 'MtLepMet', 'MtLep1Met', 'lep_Pt_0', 'HT_inclFwdJets', 'HT_taus', 'taus_pt_0', 'lep_isolationLoose_VarRad_1', 'taus_numTrack_0', 'lep_Mtrktrk_atConvV_CO_1', 'best_Z_other_MtLepMet', 'met_met', 'Mllll0123', 'Ptll01', 'Mlb', 'lep_EtaBE2_1', 'dEta_maxMjj_frwdjet', 'HT', 'jets_eta_0', 'jets_eta_1', 'jets_eta_2', 'jets_eta_3', 'jets_eta_4', 'jets_eta_5', 'jets_pt_0', 'jets_pt_1', 'jets_pt_2', 'jets_pt_3', 'jets_pt_4', 'jets_pt_5', 'jets_e_0', 'jets_e_1', 'jets_e_2', 'jets_e_3', 'jets_e_4', 'jets_e_5', 'jets_phi_0', 'jets_phi_1', 'jets_phi_2', 'jets_phi_3', 'jets_phi_4', 'jets_phi_5'], y_names=['ttH'], map_categorical=defaultdict(<class 'dict'>, {'dilep_type': {0: 'dilep_type=0', 1: 'dilep_type=1', 2: 'dilep_type=2', 3: 'dilep_type=3'}, 'lep_ID_0': {0: 'lep_ID_0=-13', 1: 'lep_ID_0=-11', 2: 'lep_ID_0=11', 3: 'lep_ID_0=13'}, 'lep_ID_1': {0: 'lep_ID_1=-13', 1: 'lep_ID_1=-11', 2: 'lep_ID_1=0', 3: 'lep_ID_1=11', 4: 'lep_ID_1=13'}, 'lep_nInnerPix_0': {0: 'lep_nInnerPix_0=-999', 1: 'lep_nInnerPix_0=0', 2: 'lep_nInnerPix_0=1', 3: 'lep_nInnerPix_0=2', 4: 'lep_nInnerPix_0=3'}, 'lep_nInnerPix_1': {0: 'lep_nInnerPix_1=-999', 1: 'lep_nInnerPix_1=0', 2: 'lep_nInnerPix_1=1', 3: 'lep_nInnerPix_1=2', 4: 'lep_nInnerPix_1=3'}, 'total_charge': {0: 'total_charge=-4', 1: 'total_charge=-2', 2: 'total_charge=-1', 3: 'total_charge=0', 4: 'total_charge=1', 5: 'total_charge=2', 6: 'total_charge=4'}, 'total_leptons': {0: 'total_leptons=1', 1: 'total_leptons=2', 2: 'total_leptons=3', 3: 'total_leptons=4'}, 'taus_passEleOLR_0': {0: 'taus_passEleOLR_0=0', 1: 'taus_passEleOLR_0=1'}, 'taus_decayMode_0': {0: 'taus_decayMode_0=0', 1: 'taus_decayMode_0=1', 2: 'taus_decayMode_0=2', 3: 'taus_decayMode_0=3', 4: 'taus_decayMode_0=4', 5: 'taus_decayMode_0=6'}, 'taus_charge_0': {0: 'taus_charge_0=-1', 1: 'taus_charge_0=0', 2: 'taus_charge_0=1'}, 'taus_fromPV_0': {0: 'taus_fromPV_0=0', 1: 'taus_fromPV_0=1'}, 'taus_passJVT_0': {0: 'taus_passJVT_0=-99', 1: 'taus_passJVT_0=0', 2: 'taus_passJVT_0=1'}, 'passPLIVTight_0': {0: 'passPLIVTight_0=0', 1: 'passPLIVTight_0=1'}, 'passPLIVTight_1': {0: 'passPLIVTight_1=0', 1: 'passPLIVTight_1=1'}, 'flag_JetCleaning_LooseBad': {0: 'flag_JetCleaning_LooseBad=1'}}), event_numbers=array([  147069,   164545,   168758, ..., 39423425, 39409503, 39409575],\n",
      "      dtype=uint64))\n"
     ]
    }
   ],
   "source": [
    "from data_processing.processing import process_data\n",
    "\n",
    "processed_data = process_data(data, read_yaml(config[\"categorical_features\"]), read_yaml(config[\"invalid_values\"]))\n",
    "print(processed_data)"
   ]
  },
  {
   "cell_type": "code",
   "execution_count": 10,
   "metadata": {},
   "outputs": [],
   "source": [
    "# Save all of it\n",
    "from data_processing.processing import save_data\n",
    "\n",
    "output_path = os.path.join(\"data_processing\", config[\"output_path\"])\n",
    "save_data(processed_data, output_path)"
   ]
  },
  {
   "cell_type": "code",
   "execution_count": 11,
   "metadata": {},
   "outputs": [
    {
     "name": "stdout",
     "output_type": "stream",
     "text": [
      "       ttH:     834970 raw     523.4175 weighted      15293 raw      12.2196 weighted\n",
      "     Total:     834970 raw     523.4175 weighted      15293 raw      12.2196 weighted\n"
     ]
    }
   ],
   "source": [
    "# Load and test it\n",
    "from data_processing.processing import load_data\n",
    "\n",
    "data = load_data(output_path)\n",
    "\n",
    "total_raw = 0\n",
    "total_weighted = 0\n",
    "total_selected_raw = 0\n",
    "total_selected_weighted = 0\n",
    "\n",
    "for y, y_name in enumerate(data.y_names):\n",
    "    w = data.w[data.y == y]\n",
    "    num_raw = w.shape[0]\n",
    "    num_weighted = w.sum()\n",
    "\n",
    "    selected_w = data.w[(data.y == y) & data.selected]\n",
    "    num_selected_raw = selected_w.shape[0]\n",
    "    num_selected_weighted = selected_w.sum()\n",
    "\n",
    "    print(f\"{y_name:>10s}: {num_raw:>10d} raw {num_weighted:>12.4f} weighted {num_selected_raw:>10d} raw {num_selected_weighted:>12.4f} weighted\")\n",
    "\n",
    "    total_raw += num_raw\n",
    "    total_weighted += num_weighted\n",
    "    total_selected_raw += num_selected_raw\n",
    "    total_selected_weighted += num_selected_weighted\n",
    "\n",
    "\n",
    "print(f\"{'Total':>10s}: {total_raw:>10d} raw {total_weighted:>12.4f} weighted {total_selected_raw:>10d} raw {total_selected_weighted:>12.4f} weighted\")"
   ]
  }
 ],
 "metadata": {
  "kernelspec": {
   "display_name": "Python 3",
   "language": "python",
   "name": "python3"
  },
  "language_info": {
   "codemirror_mode": {
    "name": "ipython",
    "version": 3
   },
   "file_extension": ".py",
   "mimetype": "text/x-python",
   "name": "python",
   "nbconvert_exporter": "python",
   "pygments_lexer": "ipython3",
   "version": "3.10.12"
  }
 },
 "nbformat": 4,
 "nbformat_minor": 2
}
